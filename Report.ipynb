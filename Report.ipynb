{
 "cells": [
  {
   "cell_type": "code",
   "execution_count": 1,
   "id": "35960518",
   "metadata": {},
   "outputs": [
    {
     "name": "stdout",
     "output_type": "stream",
     "text": [
      "get_bilancino_data()\n",
      "prepare(df)\n"
     ]
    },
    {
     "data": {
      "text/plain": [
       "<Figure size 432x288 with 0 Axes>"
      ]
     },
     "metadata": {},
     "output_type": "display_data"
    }
   ],
   "source": [
    "# personally made imports\n",
    "import acquire_p\n",
    "import analysis_p\n",
    "\n",
    "# typical imports\n",
    "import pandas as pd\n",
    "import numpy as np\n",
    "import matplotlib.pyplot as plt\n",
    "import seaborn as sns\n",
    "from scipy import stats\n",
    "\n",
    "# modeling methods\n",
    "from sklearn.model_selection import train_test_split\n",
    "from sklearn.metrics import mean_squared_error\n",
    "from sklearn.linear_model import LinearRegression, LassoLars, TweedieRegressor\n",
    "from sklearn.preprocessing import PolynomialFeatures\n",
    "\n",
    "# working with dates\n",
    "from datetime import datetime\n",
    "\n",
    "# to evaluated performance using rmse\n",
    "from sklearn.metrics import mean_squared_error\n",
    "from math import sqrt \n",
    "\n",
    "# for tsa \n",
    "import statsmodels.api as sm\n",
    "\n",
    "# holt's linear trend model. \n",
    "from statsmodels.tsa.api import Holt\n",
    "\n",
    "#clean look\n",
    "import warnings\n",
    "warnings.filterwarnings(\"ignore\")"
   ]
  },
  {
   "cell_type": "markdown",
   "id": "0c86a15b",
   "metadata": {},
   "source": [
    "# Report on Acea Smart Water Analytics\n",
    "    By Jessica Gardin"
   ]
  },
  {
   "cell_type": "markdown",
   "id": "7ec67401",
   "metadata": {},
   "source": [
    "## Data Dictionary\n",
    "\n",
    "Rainfall_S_Piero    - rainfall in mm \\\n",
    "Rainfall_Mangona    - rainfall in mm \\\n",
    "Rainfall_S_Agata    - rainfall in mm \\\n",
    "Rainfall_Cavallina  - rainfall in mm \\\n",
    "Rainfall_Le_Croci   - rainfall in mm \\\n",
    "Temperature_Le_Croci - temperature in 'C \\\n",
    "Lake_Level - level in meters (m) \\\n",
    "Flow_Rate - flow rate in cubic meters per second (mc/s) \\\n",
    "avg_rain - avg of Mangona, S_Agata, Le_Croci rainfall\n",
    "\n",
    "\n",
    "## Steps to reproduce\n",
    "\n",
    "You will need a kaggle account.\n",
    "https://www.kaggle.com/competitions/acea-water-prediction\n",
    "\n",
    "Clone my repo (including the acquire_p.py)\n",
    "\n",
    "Libraries used are pandas, matplotlib, seaborn, numpy, sklearn, datetime, math, statsmodels, and scipy.stats.\n",
    "\n",
    "\n",
    "## Project Goals\n",
    "\n",
    "Forcast water levels in Lake Bilancino to aid environmental services in determining how to handle daily consumptions efficiently.\n",
    "\n",
    "## Project Desciption\n",
    "\n",
    "As climate change impacts weather patterns, water may become increasingly in short supply. Learning how to predict and effecitvely manage water supplies, especially fresh water supplies, is crucial for city development and human survival. \n",
    "\n",
    "## Initial Testing and Hypothesis\n",
    "1. Rain affects water levels in the lake\n",
    "2. Temperature affects water levels in the lake\n",
    "3. Flow rate out of the lake affects water levels in the lake"
   ]
  },
  {
   "cell_type": "markdown",
   "id": "de4a7251",
   "metadata": {},
   "source": [
    "# Acquire\n",
    "https://www.kaggle.com/competitions/acea-water-prediction/discussion/202747\n",
    "\n",
    "Data was acquired from Kaggle in the form of a .csv file"
   ]
  },
  {
   "cell_type": "code",
   "execution_count": 2,
   "id": "07db53e3",
   "metadata": {},
   "outputs": [],
   "source": [
    "lake = acquire_p.get_bilancino_data()"
   ]
  },
  {
   "cell_type": "markdown",
   "id": "956721e5",
   "metadata": {},
   "source": [
    "# Prepare\n",
    "- two years of missing data was deleted"
   ]
  },
  {
   "cell_type": "code",
   "execution_count": 3,
   "id": "36669d54",
   "metadata": {},
   "outputs": [
    {
     "data": {
      "text/html": [
       "<div>\n",
       "<style scoped>\n",
       "    .dataframe tbody tr th:only-of-type {\n",
       "        vertical-align: middle;\n",
       "    }\n",
       "\n",
       "    .dataframe tbody tr th {\n",
       "        vertical-align: top;\n",
       "    }\n",
       "\n",
       "    .dataframe thead th {\n",
       "        text-align: right;\n",
       "    }\n",
       "</style>\n",
       "<table border=\"1\" class=\"dataframe\">\n",
       "  <thead>\n",
       "    <tr style=\"text-align: right;\">\n",
       "      <th></th>\n",
       "      <th>Rainfall_S_Piero</th>\n",
       "      <th>Rainfall_Mangona</th>\n",
       "      <th>Rainfall_S_Agata</th>\n",
       "      <th>Rainfall_Cavallina</th>\n",
       "      <th>Rainfall_Le_Croci</th>\n",
       "      <th>Temperature_Le_Croci</th>\n",
       "      <th>Lake_Level</th>\n",
       "      <th>Flow_Rate</th>\n",
       "    </tr>\n",
       "    <tr>\n",
       "      <th>Date</th>\n",
       "      <th></th>\n",
       "      <th></th>\n",
       "      <th></th>\n",
       "      <th></th>\n",
       "      <th></th>\n",
       "      <th></th>\n",
       "      <th></th>\n",
       "      <th></th>\n",
       "    </tr>\n",
       "  </thead>\n",
       "  <tbody>\n",
       "    <tr>\n",
       "      <th>2005-01-01</th>\n",
       "      <td>0.0</td>\n",
       "      <td>0.0</td>\n",
       "      <td>0.0</td>\n",
       "      <td>0.0</td>\n",
       "      <td>0.0</td>\n",
       "      <td>6.20</td>\n",
       "      <td>249.84</td>\n",
       "      <td>0.6</td>\n",
       "    </tr>\n",
       "    <tr>\n",
       "      <th>2005-01-02</th>\n",
       "      <td>0.0</td>\n",
       "      <td>0.0</td>\n",
       "      <td>0.0</td>\n",
       "      <td>0.0</td>\n",
       "      <td>0.0</td>\n",
       "      <td>4.55</td>\n",
       "      <td>250.63</td>\n",
       "      <td>0.6</td>\n",
       "    </tr>\n",
       "    <tr>\n",
       "      <th>2005-01-03</th>\n",
       "      <td>0.0</td>\n",
       "      <td>0.0</td>\n",
       "      <td>0.0</td>\n",
       "      <td>0.0</td>\n",
       "      <td>0.0</td>\n",
       "      <td>-2.00</td>\n",
       "      <td>250.72</td>\n",
       "      <td>0.6</td>\n",
       "    </tr>\n",
       "    <tr>\n",
       "      <th>2005-01-04</th>\n",
       "      <td>0.0</td>\n",
       "      <td>0.0</td>\n",
       "      <td>0.0</td>\n",
       "      <td>0.0</td>\n",
       "      <td>0.0</td>\n",
       "      <td>12.45</td>\n",
       "      <td>252.07</td>\n",
       "      <td>9.5</td>\n",
       "    </tr>\n",
       "    <tr>\n",
       "      <th>2005-01-05</th>\n",
       "      <td>0.0</td>\n",
       "      <td>0.0</td>\n",
       "      <td>0.0</td>\n",
       "      <td>0.0</td>\n",
       "      <td>0.0</td>\n",
       "      <td>20.00</td>\n",
       "      <td>252.05</td>\n",
       "      <td>6.5</td>\n",
       "    </tr>\n",
       "  </tbody>\n",
       "</table>\n",
       "</div>"
      ],
      "text/plain": [
       "            Rainfall_S_Piero  Rainfall_Mangona  Rainfall_S_Agata  \\\n",
       "Date                                                               \n",
       "2005-01-01               0.0               0.0               0.0   \n",
       "2005-01-02               0.0               0.0               0.0   \n",
       "2005-01-03               0.0               0.0               0.0   \n",
       "2005-01-04               0.0               0.0               0.0   \n",
       "2005-01-05               0.0               0.0               0.0   \n",
       "\n",
       "            Rainfall_Cavallina  Rainfall_Le_Croci  Temperature_Le_Croci  \\\n",
       "Date                                                                      \n",
       "2005-01-01                 0.0                0.0                  6.20   \n",
       "2005-01-02                 0.0                0.0                  4.55   \n",
       "2005-01-03                 0.0                0.0                 -2.00   \n",
       "2005-01-04                 0.0                0.0                 12.45   \n",
       "2005-01-05                 0.0                0.0                 20.00   \n",
       "\n",
       "            Lake_Level  Flow_Rate  \n",
       "Date                               \n",
       "2005-01-01      249.84        0.6  \n",
       "2005-01-02      250.63        0.6  \n",
       "2005-01-03      250.72        0.6  \n",
       "2005-01-04      252.07        9.5  \n",
       "2005-01-05      252.05        6.5  "
      ]
     },
     "execution_count": 3,
     "metadata": {},
     "output_type": "execute_result"
    }
   ],
   "source": [
    "lake = acquire_p.prepare(lake)\n",
    "lake.head()"
   ]
  },
  {
   "cell_type": "markdown",
   "id": "6f37ebc5",
   "metadata": {},
   "source": [
    "# Explore/Feature Engineering"
   ]
  },
  {
   "cell_type": "markdown",
   "id": "6cbbf2a0",
   "metadata": {},
   "source": [
    "# Visual"
   ]
  },
  {
   "cell_type": "code",
   "execution_count": 4,
   "id": "4595238a",
   "metadata": {},
   "outputs": [],
   "source": [
    "example_m = analysis_p.example"
   ]
  },
  {
   "cell_type": "code",
   "execution_count": 5,
   "id": "be772985",
   "metadata": {
    "scrolled": true
   },
   "outputs": [
    {
     "data": {
      "image/png": "[encoded data removed]",
      "text/plain": [
       "<Figure size 1152x1152 with 3 Axes>"
      ]
     },
     "metadata": {
      "needs_background": "light"
     },
     "output_type": "display_data"
    }
   ],
   "source": [
    "analysis_p.visual(example_m)"
   ]
  },
  {
   "cell_type": "markdown",
   "id": "cd89fbad",
   "metadata": {},
   "source": [
    "# Visual Takeaway\n",
    "Data illustrates a 3 month time delay between independent variables and their effect on the Lake level. \n",
    "I chose to shift these variables by 3 months. "
   ]
  },
  {
   "cell_type": "markdown",
   "id": "da152dce",
   "metadata": {},
   "source": [
    "# Statistical Exploration\n",
    "\n",
    "- All continuous variables so Spearman or Pearson\n",
    "- Spearman is better with monotonic patterns and skewed data set, both of which apply to this dataset"
   ]
  },
  {
   "cell_type": "code",
   "execution_count": 6,
   "id": "b86167a4",
   "metadata": {},
   "outputs": [
    {
     "data": {
      "text/plain": [
       "<AxesSubplot:>"
      ]
     },
     "execution_count": 6,
     "metadata": {},
     "output_type": "execute_result"
    },
    {
     "data": {
      "image/png": "[encoded data removed]",
      "text/plain": [
       "<Figure size 432x288 with 1 Axes>"
      ]
     },
     "metadata": {
      "needs_background": "light"
     },
     "output_type": "display_data"
    }
   ],
   "source": [
    "lake.Rainfall_Le_Croci.hist()"
   ]
  },
  {
   "cell_type": "markdown",
   "id": "ecf2f92d",
   "metadata": {},
   "source": [
    "### No shift"
   ]
  },
  {
   "cell_type": "code",
   "execution_count": 7,
   "id": "11b64515",
   "metadata": {},
   "outputs": [],
   "source": [
    "cat_col = lake.columns"
   ]
  },
  {
   "cell_type": "code",
   "execution_count": 8,
   "id": "a11e1548",
   "metadata": {},
   "outputs": [],
   "source": [
    "stat_norm = []"
   ]
  },
  {
   "cell_type": "code",
   "execution_count": 9,
   "id": "8d23143b",
   "metadata": {},
   "outputs": [],
   "source": [
    "for col in cat_col:\n",
    "    stats.spearmanr(lake.Lake_Level, lake[col])\n",
    "    stat_norm.append(stats.spearmanr(lake.Lake_Level, lake[col]))"
   ]
  },
  {
   "cell_type": "code",
   "execution_count": 10,
   "id": "777f8ffd",
   "metadata": {},
   "outputs": [],
   "source": [
    "stat_norm = pd.DataFrame(stat_norm, index = cat_col).round(4)"
   ]
  },
  {
   "cell_type": "markdown",
   "id": "179db46d",
   "metadata": {},
   "source": [
    "### 3 Month Shift\n",
    "3 months is appoximately 90 days"
   ]
  },
  {
   "cell_type": "code",
   "execution_count": 11,
   "id": "51f1c658",
   "metadata": {},
   "outputs": [],
   "source": [
    "lake_s = acquire_p.get_bilancino_data()"
   ]
  },
  {
   "cell_type": "code",
   "execution_count": 12,
   "id": "44b66582",
   "metadata": {
    "scrolled": false
   },
   "outputs": [],
   "source": [
    "lake_s = acquire_p.prepare(lake_s)"
   ]
  },
  {
   "cell_type": "code",
   "execution_count": 13,
   "id": "ed6b4ee6",
   "metadata": {},
   "outputs": [],
   "source": [
    "lake_s[['Rainfall_S_Piero', 'Rainfall_Mangona', 'Rainfall_S_Agata',\n",
    "       'Rainfall_Cavallina', 'Rainfall_Le_Croci', 'Temperature_Le_Croci']] = lake_s[['Rainfall_S_Piero', 'Rainfall_Mangona', 'Rainfall_S_Agata',\n",
    "       'Rainfall_Cavallina', 'Rainfall_Le_Croci', 'Temperature_Le_Croci']].shift(periods = 90, fill_value=0)"
   ]
  },
  {
   "cell_type": "code",
   "execution_count": 14,
   "id": "e396b226",
   "metadata": {},
   "outputs": [],
   "source": [
    "lake_s = lake_s[lake_s.index >= '2005-04-01']"
   ]
  },
  {
   "cell_type": "code",
   "execution_count": 15,
   "id": "549eecda",
   "metadata": {},
   "outputs": [],
   "source": [
    "cat_col = lake_s.columns"
   ]
  },
  {
   "cell_type": "code",
   "execution_count": 16,
   "id": "11368ab0",
   "metadata": {},
   "outputs": [],
   "source": [
    "stat_3m_s = []"
   ]
  },
  {
   "cell_type": "code",
   "execution_count": 17,
   "id": "44a72168",
   "metadata": {
    "scrolled": true
   },
   "outputs": [],
   "source": [
    "for col in cat_col:\n",
    "    stats.spearmanr(lake_s.Lake_Level, lake_s[col])\n",
    "    stat_3m_s.append(stats.spearmanr(lake_s.Lake_Level, lake_s[col]))"
   ]
  },
  {
   "cell_type": "code",
   "execution_count": 18,
   "id": "27bab457",
   "metadata": {},
   "outputs": [],
   "source": [
    "stat_3m_s = pd.DataFrame(stat_3m_s, index = cat_col, columns = ['corr_3m_s', 'p_3m_s']).round(4)"
   ]
  },
  {
   "cell_type": "markdown",
   "id": "4b55e9d2",
   "metadata": {},
   "source": [
    "# Compare"
   ]
  },
  {
   "cell_type": "code",
   "execution_count": 19,
   "id": "81419fa2",
   "metadata": {},
   "outputs": [],
   "source": [
    "stat_sum = stat_norm.join(stat_3m_s)"
   ]
  },
  {
   "cell_type": "code",
   "execution_count": 20,
   "id": "ed7628eb",
   "metadata": {},
   "outputs": [],
   "source": [
    "stat_sum_cor = stat_sum[['correlation', 'corr_3m_s']]"
   ]
  },
  {
   "cell_type": "code",
   "execution_count": 21,
   "id": "408547fd",
   "metadata": {},
   "outputs": [],
   "source": [
    "stat_sum_cor = stat_sum_cor.abs()"
   ]
  },
  {
   "cell_type": "code",
   "execution_count": 22,
   "id": "f74f3f93",
   "metadata": {},
   "outputs": [],
   "source": [
    "stat_sum_cor = stat_sum_cor.drop(index = ['Flow_Rate', 'Lake_Level'])"
   ]
  },
  {
   "cell_type": "code",
   "execution_count": 23,
   "id": "4b0b3041",
   "metadata": {
    "scrolled": true
   },
   "outputs": [
    {
     "data": {
      "image/png": "[encoded data removed]",
      "text/plain": [
       "<Figure size 432x288 with 1 Axes>"
      ]
     },
     "metadata": {
      "needs_background": "light"
     },
     "output_type": "display_data"
    }
   ],
   "source": [
    "spear_cor = stat_sum_cor.plot(kind = 'barh', title = 'Strenght of Correlation to Lake Level')"
   ]
  },
  {
   "cell_type": "code",
   "execution_count": 24,
   "id": "12551a00",
   "metadata": {},
   "outputs": [],
   "source": [
    "stat_sum_p = stat_sum[['pvalue', 'p_3m_s']]"
   ]
  },
  {
   "cell_type": "code",
   "execution_count": 25,
   "id": "4a1146e6",
   "metadata": {},
   "outputs": [],
   "source": [
    "stat_sum_p = stat_sum_p.drop(index = ['Flow_Rate', 'Lake_Level'])"
   ]
  },
  {
   "cell_type": "code",
   "execution_count": 26,
   "id": "93d07067",
   "metadata": {
    "scrolled": true
   },
   "outputs": [
    {
     "data": {
      "image/png": "[encoded data removed]",
      "text/plain": [
       "<Figure size 432x288 with 1 Axes>"
      ]
     },
     "metadata": {
      "needs_background": "light"
     },
     "output_type": "display_data"
    }
   ],
   "source": [
    "spear_p = stat_sum_p.plot(kind = 'barh', title = 'Statisitcal Likelihood of Random Correlation')"
   ]
  },
  {
   "cell_type": "markdown",
   "id": "90ef081d",
   "metadata": {},
   "source": [
    "# Concerns for sparse matrix"
   ]
  },
  {
   "cell_type": "code",
   "execution_count": 27,
   "id": "cc9e7598",
   "metadata": {
    "scrolled": true
   },
   "outputs": [
    {
     "data": {
      "text/html": [
       "<div>\n",
       "<style scoped>\n",
       "    .dataframe tbody tr th:only-of-type {\n",
       "        vertical-align: middle;\n",
       "    }\n",
       "\n",
       "    .dataframe tbody tr th {\n",
       "        vertical-align: top;\n",
       "    }\n",
       "\n",
       "    .dataframe thead th {\n",
       "        text-align: right;\n",
       "    }\n",
       "</style>\n",
       "<table border=\"1\" class=\"dataframe\">\n",
       "  <thead>\n",
       "    <tr style=\"text-align: right;\">\n",
       "      <th></th>\n",
       "      <th>Rainfall_S_Piero</th>\n",
       "      <th>Rainfall_Mangona</th>\n",
       "      <th>Rainfall_S_Agata</th>\n",
       "      <th>Rainfall_Cavallina</th>\n",
       "      <th>Rainfall_Le_Croci</th>\n",
       "      <th>Temperature_Le_Croci</th>\n",
       "      <th>Lake_Level</th>\n",
       "      <th>Flow_Rate</th>\n",
       "    </tr>\n",
       "  </thead>\n",
       "  <tbody>\n",
       "    <tr>\n",
       "      <th>count</th>\n",
       "      <td>5660.00</td>\n",
       "      <td>5660.00</td>\n",
       "      <td>5660.00</td>\n",
       "      <td>5660.00</td>\n",
       "      <td>5660.00</td>\n",
       "      <td>5660.00</td>\n",
       "      <td>5660.00</td>\n",
       "      <td>5660.00</td>\n",
       "    </tr>\n",
       "    <tr>\n",
       "      <th>mean</th>\n",
       "      <td>2.48</td>\n",
       "      <td>3.34</td>\n",
       "      <td>2.70</td>\n",
       "      <td>2.66</td>\n",
       "      <td>3.13</td>\n",
       "      <td>14.57</td>\n",
       "      <td>249.51</td>\n",
       "      <td>2.71</td>\n",
       "    </tr>\n",
       "    <tr>\n",
       "      <th>std</th>\n",
       "      <td>6.73</td>\n",
       "      <td>8.97</td>\n",
       "      <td>7.28</td>\n",
       "      <td>7.71</td>\n",
       "      <td>8.09</td>\n",
       "      <td>6.93</td>\n",
       "      <td>2.19</td>\n",
       "      <td>4.01</td>\n",
       "    </tr>\n",
       "    <tr>\n",
       "      <th>min</th>\n",
       "      <td>0.00</td>\n",
       "      <td>0.00</td>\n",
       "      <td>0.00</td>\n",
       "      <td>0.00</td>\n",
       "      <td>0.00</td>\n",
       "      <td>-5.35</td>\n",
       "      <td>243.53</td>\n",
       "      <td>0.45</td>\n",
       "    </tr>\n",
       "    <tr>\n",
       "      <th>25%</th>\n",
       "      <td>0.00</td>\n",
       "      <td>0.00</td>\n",
       "      <td>0.00</td>\n",
       "      <td>0.00</td>\n",
       "      <td>0.00</td>\n",
       "      <td>9.10</td>\n",
       "      <td>247.89</td>\n",
       "      <td>0.60</td>\n",
       "    </tr>\n",
       "    <tr>\n",
       "      <th>50%</th>\n",
       "      <td>0.00</td>\n",
       "      <td>0.00</td>\n",
       "      <td>0.00</td>\n",
       "      <td>0.00</td>\n",
       "      <td>0.00</td>\n",
       "      <td>14.50</td>\n",
       "      <td>250.19</td>\n",
       "      <td>1.50</td>\n",
       "    </tr>\n",
       "    <tr>\n",
       "      <th>75%</th>\n",
       "      <td>0.80</td>\n",
       "      <td>1.20</td>\n",
       "      <td>1.20</td>\n",
       "      <td>0.40</td>\n",
       "      <td>1.20</td>\n",
       "      <td>20.15</td>\n",
       "      <td>251.28</td>\n",
       "      <td>3.00</td>\n",
       "    </tr>\n",
       "    <tr>\n",
       "      <th>max</th>\n",
       "      <td>80.60</td>\n",
       "      <td>110.00</td>\n",
       "      <td>120.20</td>\n",
       "      <td>113.60</td>\n",
       "      <td>88.40</td>\n",
       "      <td>34.00</td>\n",
       "      <td>252.76</td>\n",
       "      <td>74.65</td>\n",
       "    </tr>\n",
       "  </tbody>\n",
       "</table>\n",
       "</div>"
      ],
      "text/plain": [
       "       Rainfall_S_Piero  Rainfall_Mangona  Rainfall_S_Agata  \\\n",
       "count           5660.00           5660.00           5660.00   \n",
       "mean               2.48              3.34              2.70   \n",
       "std                6.73              8.97              7.28   \n",
       "min                0.00              0.00              0.00   \n",
       "25%                0.00              0.00              0.00   \n",
       "50%                0.00              0.00              0.00   \n",
       "75%                0.80              1.20              1.20   \n",
       "max               80.60            110.00            120.20   \n",
       "\n",
       "       Rainfall_Cavallina  Rainfall_Le_Croci  Temperature_Le_Croci  \\\n",
       "count             5660.00            5660.00               5660.00   \n",
       "mean                 2.66               3.13                 14.57   \n",
       "std                  7.71               8.09                  6.93   \n",
       "min                  0.00               0.00                 -5.35   \n",
       "25%                  0.00               0.00                  9.10   \n",
       "50%                  0.00               0.00                 14.50   \n",
       "75%                  0.40               1.20                 20.15   \n",
       "max                113.60              88.40                 34.00   \n",
       "\n",
       "       Lake_Level  Flow_Rate  \n",
       "count     5660.00    5660.00  \n",
       "mean       249.51       2.71  \n",
       "std          2.19       4.01  \n",
       "min        243.53       0.45  \n",
       "25%        247.89       0.60  \n",
       "50%        250.19       1.50  \n",
       "75%        251.28       3.00  \n",
       "max        252.76      74.65  "
      ]
     },
     "execution_count": 27,
     "metadata": {},
     "output_type": "execute_result"
    }
   ],
   "source": [
    "lake.describe().round(2)"
   ]
  },
  {
   "cell_type": "markdown",
   "id": "1a7bf685",
   "metadata": {},
   "source": [
    "# Takeaway\n",
    "based on stats testing and high amounts of zeros in data, \n",
    "I intend to comibne Rainfall Mangona, Agata, and Le_Croci\n",
    "\n",
    "I will drop Rainfall S_Piero and Cavallina"
   ]
  },
  {
   "cell_type": "code",
   "execution_count": 28,
   "id": "f3707e98",
   "metadata": {},
   "outputs": [],
   "source": [
    "lake_s['avg_rain'] = (lake_s.Rainfall_Mangona + lake_s.Rainfall_S_Agata + lake_s.Rainfall_Le_Croci)/3"
   ]
  },
  {
   "cell_type": "code",
   "execution_count": 29,
   "id": "5fb9ddda",
   "metadata": {},
   "outputs": [],
   "source": [
    "cat_col = lake_s.columns"
   ]
  },
  {
   "cell_type": "code",
   "execution_count": 30,
   "id": "efcf3be3",
   "metadata": {},
   "outputs": [],
   "source": [
    "stat_spars = []"
   ]
  },
  {
   "cell_type": "code",
   "execution_count": 31,
   "id": "93d2b920",
   "metadata": {},
   "outputs": [],
   "source": [
    "for col in cat_col:\n",
    "    stats.spearmanr(lake_s.Lake_Level, lake_s[col])\n",
    "    stat_spars.append(stats.spearmanr(lake_s.Lake_Level, lake_s[col]))"
   ]
  },
  {
   "cell_type": "code",
   "execution_count": 32,
   "id": "331bd77a",
   "metadata": {},
   "outputs": [],
   "source": [
    "stat_spars = pd.DataFrame(stat_spars, index = cat_col, columns = ['corr_spars', 'p_spars']).round(4)"
   ]
  },
  {
   "cell_type": "code",
   "execution_count": 33,
   "id": "592e0c09",
   "metadata": {},
   "outputs": [],
   "source": [
    "stat_spars = stat_spars.abs()"
   ]
  },
  {
   "cell_type": "code",
   "execution_count": 34,
   "id": "c6746bca",
   "metadata": {},
   "outputs": [],
   "source": [
    "stat_spars = stat_spars.drop(index = ['Flow_Rate', 'Lake_Level'], columns = 'p_spars')"
   ]
  },
  {
   "cell_type": "code",
   "execution_count": 35,
   "id": "3748a21d",
   "metadata": {},
   "outputs": [
    {
     "data": {
      "text/plain": [
       "<matplotlib.lines.Line2D at 0x175be9d90>"
      ]
     },
     "execution_count": 35,
     "metadata": {},
     "output_type": "execute_result"
    },
    {
     "data": {
      "image/png": "[encoded data removed]",
      "text/plain": [
       "<Figure size 432x288 with 1 Axes>"
      ]
     },
     "metadata": {
      "needs_background": "light"
     },
     "output_type": "display_data"
    }
   ],
   "source": [
    "ax = stat_spars.plot(kind = 'barh', title = 'Spearmanr for Avg Rain vs Individual Rain')\n",
    "plt.axvline(.102)"
   ]
  },
  {
   "cell_type": "markdown",
   "id": "258e3a31",
   "metadata": {},
   "source": [
    "# Takeaway\n",
    "avg rainfall has a stronger correlation with the target variable than any individual rain dataset"
   ]
  },
  {
   "cell_type": "markdown",
   "id": "716de4cf",
   "metadata": {},
   "source": [
    "# Initial Testing and Hypothesis\n",
    "1. Rain affects water levels in the lake\n",
    "    - True. Specifically Le_Croci, S_Agata, and Mangona\n",
    "2. Temperature affects water levels in the lake\n",
    "    - True.\n",
    "3. Flow rate out of the lake affects water levels in the lake\n",
    "    - True."
   ]
  },
  {
   "cell_type": "markdown",
   "id": "40f7b5a3",
   "metadata": {},
   "source": [
    "# Model"
   ]
  },
  {
   "cell_type": "markdown",
   "id": "05ae5251",
   "metadata": {},
   "source": [
    "### Split Data\n",
    "16 years of data \\\n",
    "Human split\n",
    "\n",
    "9 years to train (55%) \\\n",
    "4 years to validate (25%) \\\n",
    "3 years to test (20%)"
   ]
  },
  {
   "cell_type": "code",
   "execution_count": 36,
   "id": "beec277e",
   "metadata": {},
   "outputs": [],
   "source": [
    "mod_col = lake_s.drop(columns = ['Rainfall_S_Piero', 'Rainfall_Mangona', 'Rainfall_S_Agata',\n",
    "       'Rainfall_Cavallina', 'Rainfall_Le_Croci'])"
   ]
  },
  {
   "cell_type": "code",
   "execution_count": 37,
   "id": "5987c2a1",
   "metadata": {},
   "outputs": [],
   "source": [
    "mod_col = mod_col.resample('M').mean()"
   ]
  },
  {
   "cell_type": "code",
   "execution_count": 38,
   "id": "d1c54e57",
   "metadata": {},
   "outputs": [],
   "source": [
    "train = mod_col[mod_col.index < '2014-01-01']\n",
    "validate = mod_col[(mod_col.index >= '2014-01-01') & (mod_col.index < '2018-01-01')]\n",
    "test = mod_col[mod_col.index >= '2018-01-01']"
   ]
  },
  {
   "cell_type": "code",
   "execution_count": 39,
   "id": "9fa1d800",
   "metadata": {},
   "outputs": [],
   "source": [
    "trainx = train.drop(columns = 'Lake_Level')\n",
    "trainy = train.Lake_Level\n",
    "\n",
    "validatex = validate.drop(columns = 'Lake_Level')\n",
    "validatey = validate.Lake_Level\n",
    "\n",
    "testx = test.drop(columns = 'Lake_Level')\n",
    "testy = test.Lake_Level"
   ]
  },
  {
   "cell_type": "code",
   "execution_count": 40,
   "id": "9b7d8d4d",
   "metadata": {},
   "outputs": [
    {
     "data": {
      "text/plain": [
       "((105, 4), (48, 4), (36, 4))"
      ]
     },
     "execution_count": 40,
     "metadata": {},
     "output_type": "execute_result"
    }
   ],
   "source": [
    "train.shape, validate.shape, test.shape"
   ]
  },
  {
   "cell_type": "code",
   "execution_count": 41,
   "id": "4371a444",
   "metadata": {},
   "outputs": [
    {
     "data": {
      "image/png": "[encoded data removed]",
      "text/plain": [
       "<Figure size 1008x576 with 1 Axes>"
      ]
     },
     "metadata": {
      "needs_background": "light"
     },
     "output_type": "display_data"
    }
   ],
   "source": [
    "plt.figure(figsize=(14,8))\n",
    "plt.plot(train.Lake_Level)\n",
    "plt.plot(validate.Lake_Level)\n",
    "plt.plot(test.Lake_Level)\n",
    "plt.title(\"Lake_Level\")\n",
    "plt.show()\n",
    "\n"
   ]
  },
  {
   "cell_type": "code",
   "execution_count": 42,
   "id": "4b165c7f",
   "metadata": {},
   "outputs": [
    {
     "data": {
      "text/html": [
       "<div>\n",
       "<style scoped>\n",
       "    .dataframe tbody tr th:only-of-type {\n",
       "        vertical-align: middle;\n",
       "    }\n",
       "\n",
       "    .dataframe tbody tr th {\n",
       "        vertical-align: top;\n",
       "    }\n",
       "\n",
       "    .dataframe thead th {\n",
       "        text-align: right;\n",
       "    }\n",
       "</style>\n",
       "<table border=\"1\" class=\"dataframe\">\n",
       "  <thead>\n",
       "    <tr style=\"text-align: right;\">\n",
       "      <th></th>\n",
       "      <th>model_type</th>\n",
       "      <th>rmse</th>\n",
       "    </tr>\n",
       "  </thead>\n",
       "  <tbody>\n",
       "  </tbody>\n",
       "</table>\n",
       "</div>"
      ],
      "text/plain": [
       "Empty DataFrame\n",
       "Columns: [model_type, rmse]\n",
       "Index: []"
      ]
     },
     "execution_count": 42,
     "metadata": {},
     "output_type": "execute_result"
    }
   ],
   "source": [
    "# create an empty dataframe\n",
    "eval_df = pd.DataFrame(columns=['model_type', 'rmse'])\n",
    "eval_df"
   ]
  },
  {
   "cell_type": "code",
   "execution_count": 43,
   "id": "68cbd64c",
   "metadata": {},
   "outputs": [],
   "source": [
    "def evaluate(target_var):\n",
    "    '''\n",
    "    This function will take the actual values of the target_var from validate, \n",
    "    and the predicted values stored in yhat_df, \n",
    "    and compute the rmse, rounding to 0 decimal places. \n",
    "    it will return the rmse. \n",
    "    '''\n",
    "    rmse = round(sqrt(mean_squared_error(validate[target_var], yhat_df[target_var])), 4)\n",
    "    return rmse"
   ]
  },
  {
   "cell_type": "code",
   "execution_count": 44,
   "id": "36f63e55",
   "metadata": {},
   "outputs": [],
   "source": [
    "def plot_and_eval(target_var):\n",
    "    '''\n",
    "    This function takes in the target var name (string), and returns a plot\n",
    "    of the values of train for that variable, validate, and the predicted values from yhat_df. \n",
    "    it will als lable the rmse. \n",
    "    '''\n",
    "    plt.figure(figsize = (12,4))\n",
    "    plt.plot(train[target_var], label='Train', linewidth=1)\n",
    "    plt.plot(validate[target_var], label='Validate', linewidth=1)\n",
    "    plt.plot(yhat_df[target_var])\n",
    "    plt.title(target_var)\n",
    "    rmse = evaluate(target_var)\n",
    "    print(rmse)\n",
    "    plt.show()"
   ]
  },
  {
   "cell_type": "code",
   "execution_count": 45,
   "id": "150227e5",
   "metadata": {},
   "outputs": [],
   "source": [
    "# function to store the rmse so that we can compare\n",
    "def append_eval_df(model_type, target_var):\n",
    "    '''\n",
    "    this function takes in as arguments the type of model run, and the name of the target variable. \n",
    "    It returns the eval_df with the rmse appended to it for that model and target_var. \n",
    "    '''\n",
    "    rmse = evaluate(target_var)\n",
    "    d = {'model_type': [model_type],\n",
    "        'rmse': [rmse]}\n",
    "    d = pd.DataFrame(d)\n",
    "    return eval_df.append(d, ignore_index = True)"
   ]
  },
  {
   "cell_type": "code",
   "execution_count": null,
   "id": "60680a99",
   "metadata": {},
   "outputs": [],
   "source": []
  },
  {
   "cell_type": "markdown",
   "id": "6ff00407",
   "metadata": {},
   "source": [
    "# Simple Avg"
   ]
  },
  {
   "cell_type": "code",
   "execution_count": 46,
   "id": "bec8e4c7",
   "metadata": {
    "scrolled": false
   },
   "outputs": [],
   "source": [
    "avg_train = trainy.mean()"
   ]
  },
  {
   "cell_type": "code",
   "execution_count": 47,
   "id": "4b27ee88",
   "metadata": {},
   "outputs": [
    {
     "data": {
      "text/html": [
       "<div>\n",
       "<style scoped>\n",
       "    .dataframe tbody tr th:only-of-type {\n",
       "        vertical-align: middle;\n",
       "    }\n",
       "\n",
       "    .dataframe tbody tr th {\n",
       "        vertical-align: top;\n",
       "    }\n",
       "\n",
       "    .dataframe thead th {\n",
       "        text-align: right;\n",
       "    }\n",
       "</style>\n",
       "<table border=\"1\" class=\"dataframe\">\n",
       "  <thead>\n",
       "    <tr style=\"text-align: right;\">\n",
       "      <th></th>\n",
       "      <th>Lake_Level</th>\n",
       "    </tr>\n",
       "    <tr>\n",
       "      <th>Date</th>\n",
       "      <th></th>\n",
       "    </tr>\n",
       "  </thead>\n",
       "  <tbody>\n",
       "    <tr>\n",
       "      <th>2014-01-31</th>\n",
       "      <td>249.312891</td>\n",
       "    </tr>\n",
       "    <tr>\n",
       "      <th>2014-02-28</th>\n",
       "      <td>249.312891</td>\n",
       "    </tr>\n",
       "    <tr>\n",
       "      <th>2014-03-31</th>\n",
       "      <td>249.312891</td>\n",
       "    </tr>\n",
       "    <tr>\n",
       "      <th>2014-04-30</th>\n",
       "      <td>249.312891</td>\n",
       "    </tr>\n",
       "    <tr>\n",
       "      <th>2014-05-31</th>\n",
       "      <td>249.312891</td>\n",
       "    </tr>\n",
       "  </tbody>\n",
       "</table>\n",
       "</div>"
      ],
      "text/plain": [
       "            Lake_Level\n",
       "Date                  \n",
       "2014-01-31  249.312891\n",
       "2014-02-28  249.312891\n",
       "2014-03-31  249.312891\n",
       "2014-04-30  249.312891\n",
       "2014-05-31  249.312891"
      ]
     },
     "execution_count": 47,
     "metadata": {},
     "output_type": "execute_result"
    }
   ],
   "source": [
    "yhat_df = pd.DataFrame(\n",
    "    {'Lake_Level': [avg_train]},\n",
    "    index=validate.index)\n",
    "\n",
    "yhat_df.head()"
   ]
  },
  {
   "cell_type": "code",
   "execution_count": 48,
   "id": "83e42ba2",
   "metadata": {},
   "outputs": [
    {
     "name": "stdout",
     "output_type": "stream",
     "text": [
      "1.0234\n"
     ]
    },
    {
     "data": {
      "image/png": "[encoded data removed]",
      "text/plain": [
       "<Figure size 864x288 with 1 Axes>"
      ]
     },
     "metadata": {
      "needs_background": "light"
     },
     "output_type": "display_data"
    }
   ],
   "source": [
    "plot_and_eval('Lake_Level')"
   ]
  },
  {
   "cell_type": "code",
   "execution_count": 49,
   "id": "64f38fce",
   "metadata": {
    "scrolled": false
   },
   "outputs": [
    {
     "data": {
      "text/html": [
       "<div>\n",
       "<style scoped>\n",
       "    .dataframe tbody tr th:only-of-type {\n",
       "        vertical-align: middle;\n",
       "    }\n",
       "\n",
       "    .dataframe tbody tr th {\n",
       "        vertical-align: top;\n",
       "    }\n",
       "\n",
       "    .dataframe thead th {\n",
       "        text-align: right;\n",
       "    }\n",
       "</style>\n",
       "<table border=\"1\" class=\"dataframe\">\n",
       "  <thead>\n",
       "    <tr style=\"text-align: right;\">\n",
       "      <th></th>\n",
       "      <th>model_type</th>\n",
       "      <th>rmse</th>\n",
       "    </tr>\n",
       "  </thead>\n",
       "  <tbody>\n",
       "    <tr>\n",
       "      <th>0</th>\n",
       "      <td>simple_avg</td>\n",
       "      <td>1.0234</td>\n",
       "    </tr>\n",
       "  </tbody>\n",
       "</table>\n",
       "</div>"
      ],
      "text/plain": [
       "   model_type    rmse\n",
       "0  simple_avg  1.0234"
      ]
     },
     "execution_count": 49,
     "metadata": {},
     "output_type": "execute_result"
    }
   ],
   "source": [
    "eval_df = append_eval_df(model_type = 'simple_avg', target_var = 'Lake_Level')\n",
    "\n",
    "eval_df"
   ]
  },
  {
   "cell_type": "markdown",
   "id": "1ecb286e",
   "metadata": {},
   "source": [
    "# Holt's Linear Trend"
   ]
  },
  {
   "cell_type": "markdown",
   "id": "2a614a73",
   "metadata": {},
   "source": [
    "### FIT ONLY ON TRAIN"
   ]
  },
  {
   "cell_type": "code",
   "execution_count": 50,
   "id": "9285b88d",
   "metadata": {},
   "outputs": [],
   "source": [
    "col = 'Lake_Level' \n",
    "# create our Holt's Object\n",
    "model = Holt(train[col], exponential=False, damped=True)"
   ]
  },
  {
   "cell_type": "code",
   "execution_count": 51,
   "id": "15a7e61a",
   "metadata": {},
   "outputs": [],
   "source": [
    "# fit the holt's object\n",
    "model = model.fit(optimized=True)"
   ]
  },
  {
   "cell_type": "code",
   "execution_count": 52,
   "id": "4af9ab68",
   "metadata": {},
   "outputs": [],
   "source": [
    "yhat = model.predict(start = validate.index[0],\n",
    "                              end = validate.index[-1])"
   ]
  },
  {
   "cell_type": "code",
   "execution_count": 53,
   "id": "fca9413e",
   "metadata": {},
   "outputs": [
    {
     "data": {
      "text/html": [
       "<div>\n",
       "<style scoped>\n",
       "    .dataframe tbody tr th:only-of-type {\n",
       "        vertical-align: middle;\n",
       "    }\n",
       "\n",
       "    .dataframe tbody tr th {\n",
       "        vertical-align: top;\n",
       "    }\n",
       "\n",
       "    .dataframe thead th {\n",
       "        text-align: right;\n",
       "    }\n",
       "</style>\n",
       "<table border=\"1\" class=\"dataframe\">\n",
       "  <thead>\n",
       "    <tr style=\"text-align: right;\">\n",
       "      <th></th>\n",
       "      <th>Lake_Level</th>\n",
       "    </tr>\n",
       "  </thead>\n",
       "  <tbody>\n",
       "    <tr>\n",
       "      <th>2014-01-31</th>\n",
       "      <td>249.70</td>\n",
       "    </tr>\n",
       "    <tr>\n",
       "      <th>2014-02-28</th>\n",
       "      <td>249.97</td>\n",
       "    </tr>\n",
       "    <tr>\n",
       "      <th>2014-03-31</th>\n",
       "      <td>250.19</td>\n",
       "    </tr>\n",
       "    <tr>\n",
       "      <th>2014-04-30</th>\n",
       "      <td>250.36</td>\n",
       "    </tr>\n",
       "    <tr>\n",
       "      <th>2014-05-31</th>\n",
       "      <td>250.50</td>\n",
       "    </tr>\n",
       "  </tbody>\n",
       "</table>\n",
       "</div>"
      ],
      "text/plain": [
       "            Lake_Level\n",
       "2014-01-31      249.70\n",
       "2014-02-28      249.97\n",
       "2014-03-31      250.19\n",
       "2014-04-30      250.36\n",
       "2014-05-31      250.50"
      ]
     },
     "execution_count": 53,
     "metadata": {},
     "output_type": "execute_result"
    }
   ],
   "source": [
    "yhat_df = pd.DataFrame(yhat.round(2), columns = ['Lake_Level'])\n",
    "\n",
    "yhat_df.head()"
   ]
  },
  {
   "cell_type": "code",
   "execution_count": 54,
   "id": "4f119c8d",
   "metadata": {
    "scrolled": true
   },
   "outputs": [
    {
     "name": "stdout",
     "output_type": "stream",
     "text": [
      "1.7568\n"
     ]
    },
    {
     "data": {
      "image/png": "[encoded data removed]",
      "text/plain": [
       "<Figure size 864x288 with 1 Axes>"
      ]
     },
     "metadata": {
      "needs_background": "light"
     },
     "output_type": "display_data"
    }
   ],
   "source": [
    "plot_and_eval('Lake_Level')"
   ]
  },
  {
   "cell_type": "code",
   "execution_count": 55,
   "id": "7a8ced3e",
   "metadata": {},
   "outputs": [
    {
     "data": {
      "text/html": [
       "<div>\n",
       "<style scoped>\n",
       "    .dataframe tbody tr th:only-of-type {\n",
       "        vertical-align: middle;\n",
       "    }\n",
       "\n",
       "    .dataframe tbody tr th {\n",
       "        vertical-align: top;\n",
       "    }\n",
       "\n",
       "    .dataframe thead th {\n",
       "        text-align: right;\n",
       "    }\n",
       "</style>\n",
       "<table border=\"1\" class=\"dataframe\">\n",
       "  <thead>\n",
       "    <tr style=\"text-align: right;\">\n",
       "      <th></th>\n",
       "      <th>model_type</th>\n",
       "      <th>rmse</th>\n",
       "    </tr>\n",
       "  </thead>\n",
       "  <tbody>\n",
       "    <tr>\n",
       "      <th>0</th>\n",
       "      <td>simple_avg</td>\n",
       "      <td>1.0234</td>\n",
       "    </tr>\n",
       "    <tr>\n",
       "      <th>1</th>\n",
       "      <td>Holt's_Linear</td>\n",
       "      <td>1.7568</td>\n",
       "    </tr>\n",
       "  </tbody>\n",
       "</table>\n",
       "</div>"
      ],
      "text/plain": [
       "      model_type    rmse\n",
       "0     simple_avg  1.0234\n",
       "1  Holt's_Linear  1.7568"
      ]
     },
     "execution_count": 55,
     "metadata": {},
     "output_type": "execute_result"
    }
   ],
   "source": [
    "eval_df = append_eval_df(model_type = \"Holt's_Linear\", target_var = 'Lake_Level')\n",
    "\n",
    "eval_df"
   ]
  },
  {
   "cell_type": "markdown",
   "id": "d5b5fe44",
   "metadata": {},
   "source": [
    "# Prediction Based on Previous cycle"
   ]
  },
  {
   "cell_type": "code",
   "execution_count": 56,
   "id": "9bae89db",
   "metadata": {},
   "outputs": [],
   "source": [
    "# finding the year-over-year difference for each month\n",
    "# taking the mean, and then adding that value to the monthy cycle before validate series\n",
    "\n",
    "# find yoy diff. in train data set take the mean, and add to each value in cycle before validate. \n",
    "yhat_df = trainy['2013'] + trainy.diff(12).mean()"
   ]
  },
  {
   "cell_type": "code",
   "execution_count": 57,
   "id": "ae419917",
   "metadata": {},
   "outputs": [],
   "source": [
    "# validate is 4 years"
   ]
  },
  {
   "cell_type": "code",
   "execution_count": 58,
   "id": "487ae166",
   "metadata": {},
   "outputs": [],
   "source": [
    "yhat_df = pd.concat([yhat_df,yhat_df], axis = 0)"
   ]
  },
  {
   "cell_type": "code",
   "execution_count": 59,
   "id": "b0e17d6f",
   "metadata": {},
   "outputs": [],
   "source": [
    "yhat_df = pd.concat([yhat_df,yhat_df], axis = 0)"
   ]
  },
  {
   "cell_type": "code",
   "execution_count": 60,
   "id": "d10cf2d7",
   "metadata": {},
   "outputs": [],
   "source": [
    "yhat_df.index = validate.index"
   ]
  },
  {
   "cell_type": "code",
   "execution_count": 61,
   "id": "73a1bfee",
   "metadata": {},
   "outputs": [],
   "source": [
    "yhat_df = pd.DataFrame(yhat_df.round(4), columns = ['Lake_Level'])"
   ]
  },
  {
   "cell_type": "code",
   "execution_count": 62,
   "id": "1768a57d",
   "metadata": {},
   "outputs": [
    {
     "name": "stdout",
     "output_type": "stream",
     "text": [
      "0.8684\n"
     ]
    },
    {
     "data": {
      "image/png": "[encoded data removed]",
      "text/plain": [
       "<Figure size 864x288 with 1 Axes>"
      ]
     },
     "metadata": {
      "needs_background": "light"
     },
     "output_type": "display_data"
    }
   ],
   "source": [
    "plot_and_eval('Lake_Level')"
   ]
  },
  {
   "cell_type": "code",
   "execution_count": 63,
   "id": "b4b101c0",
   "metadata": {},
   "outputs": [
    {
     "data": {
      "text/html": [
       "<div>\n",
       "<style scoped>\n",
       "    .dataframe tbody tr th:only-of-type {\n",
       "        vertical-align: middle;\n",
       "    }\n",
       "\n",
       "    .dataframe tbody tr th {\n",
       "        vertical-align: top;\n",
       "    }\n",
       "\n",
       "    .dataframe thead th {\n",
       "        text-align: right;\n",
       "    }\n",
       "</style>\n",
       "<table border=\"1\" class=\"dataframe\">\n",
       "  <thead>\n",
       "    <tr style=\"text-align: right;\">\n",
       "      <th></th>\n",
       "      <th>model_type</th>\n",
       "      <th>rmse</th>\n",
       "    </tr>\n",
       "  </thead>\n",
       "  <tbody>\n",
       "    <tr>\n",
       "      <th>0</th>\n",
       "      <td>simple_avg</td>\n",
       "      <td>1.0234</td>\n",
       "    </tr>\n",
       "    <tr>\n",
       "      <th>1</th>\n",
       "      <td>Holt's_Linear</td>\n",
       "      <td>1.7568</td>\n",
       "    </tr>\n",
       "    <tr>\n",
       "      <th>2</th>\n",
       "      <td>Previous_cycle</td>\n",
       "      <td>0.8684</td>\n",
       "    </tr>\n",
       "  </tbody>\n",
       "</table>\n",
       "</div>"
      ],
      "text/plain": [
       "       model_type    rmse\n",
       "0      simple_avg  1.0234\n",
       "1   Holt's_Linear  1.7568\n",
       "2  Previous_cycle  0.8684"
      ]
     },
     "execution_count": 63,
     "metadata": {},
     "output_type": "execute_result"
    }
   ],
   "source": [
    "eval_df = append_eval_df(model_type = \"Previous_cycle\", target_var = 'Lake_Level')\n",
    "\n",
    "eval_df"
   ]
  },
  {
   "cell_type": "markdown",
   "id": "7ba1738a",
   "metadata": {},
   "source": [
    "# Test\n",
    "## Previous cycle was the best."
   ]
  },
  {
   "cell_type": "markdown",
   "id": "0e797be5",
   "metadata": {},
   "source": [
    "#Only learn from train so learn from train then add to validate since validate is the cycle before test"
   ]
  },
  {
   "cell_type": "code",
   "execution_count": 71,
   "id": "5018d10b",
   "metadata": {},
   "outputs": [],
   "source": [
    "yhat_df = validatey['2017'] + trainy.diff(12).mean()"
   ]
  },
  {
   "cell_type": "code",
   "execution_count": 72,
   "id": "9c519736",
   "metadata": {
    "scrolled": true
   },
   "outputs": [
    {
     "data": {
      "text/plain": [
       "((12,), (36, 4))"
      ]
     },
     "execution_count": 72,
     "metadata": {},
     "output_type": "execute_result"
    }
   ],
   "source": [
    "yhat_df.shape, test.shape"
   ]
  },
  {
   "cell_type": "code",
   "execution_count": 73,
   "id": "32b74edc",
   "metadata": {},
   "outputs": [],
   "source": [
    "yhat_df2 = pd.concat([yhat_df,yhat_df], axis = 0)"
   ]
  },
  {
   "cell_type": "code",
   "execution_count": 74,
   "id": "6c1fed36",
   "metadata": {},
   "outputs": [],
   "source": [
    "yhat_df3 = pd.concat([yhat_df2,yhat_df], axis = 0)"
   ]
  },
  {
   "cell_type": "code",
   "execution_count": 75,
   "id": "f068c2e2",
   "metadata": {},
   "outputs": [
    {
     "data": {
      "text/plain": [
       "((36,), (36, 4))"
      ]
     },
     "execution_count": 75,
     "metadata": {},
     "output_type": "execute_result"
    }
   ],
   "source": [
    "yhat_df3.shape, test.shape"
   ]
  },
  {
   "cell_type": "code",
   "execution_count": 78,
   "id": "b9d1556b",
   "metadata": {
    "scrolled": true
   },
   "outputs": [],
   "source": [
    "yhat_df3.index = test.index"
   ]
  },
  {
   "cell_type": "code",
   "execution_count": 79,
   "id": "3a6881c9",
   "metadata": {},
   "outputs": [],
   "source": [
    "yhat_df = pd.DataFrame(yhat_df3.round(4), columns = ['Lake_Level'])"
   ]
  },
  {
   "cell_type": "code",
   "execution_count": 81,
   "id": "2801d2eb",
   "metadata": {},
   "outputs": [
    {
     "data": {
      "text/plain": [
       "((36, 1), (36, 4))"
      ]
     },
     "execution_count": 81,
     "metadata": {},
     "output_type": "execute_result"
    }
   ],
   "source": [
    "yhat_df.shape, test.shape"
   ]
  },
  {
   "cell_type": "code",
   "execution_count": 82,
   "id": "3680244e",
   "metadata": {},
   "outputs": [],
   "source": [
    "def evaluate(target_var):\n",
    "    '''\n",
    "    This function will take the actual values of the target_var from validate, \n",
    "    and the predicted values stored in yhat_df, \n",
    "    and compute the rmse, rounding to 0 decimal places. \n",
    "    it will return the rmse. \n",
    "    '''\n",
    "    rmse = round(sqrt(mean_squared_error(test[target_var], yhat_df[target_var])), 4)\n",
    "    return rmse"
   ]
  },
  {
   "cell_type": "code",
   "execution_count": 83,
   "id": "e41da0b8",
   "metadata": {},
   "outputs": [],
   "source": [
    "def plot_and_eval(target_var):\n",
    "    '''\n",
    "    This function takes in the target var name (string), and returns a plot\n",
    "    of the values of train for that variable, validate, and the predicted values from yhat_df. \n",
    "    it will als lable the rmse. \n",
    "    '''\n",
    "    plt.figure(figsize = (12,4))\n",
    "    plt.plot(train[target_var], label='Train', linewidth=1)\n",
    "    plt.plot(validate[target_var], label='Validate', linewidth=1)\n",
    "    plt.plot(test[target_var], label='Test', linewidth=1)\n",
    "    plt.plot(yhat_df[target_var])\n",
    "    plt.title(target_var)\n",
    "    rmse = evaluate(target_var)\n",
    "    print(rmse)\n",
    "    plt.show()"
   ]
  },
  {
   "cell_type": "code",
   "execution_count": 84,
   "id": "0aa1eb7a",
   "metadata": {},
   "outputs": [],
   "source": [
    "# function to store the rmse so that we can compare\n",
    "def append_eval_df(model_type, target_var):\n",
    "    '''\n",
    "    this function takes in as arguments the type of model run, and the name of the target variable. \n",
    "    It returns the eval_df with the rmse appended to it for that model and target_var. \n",
    "    '''\n",
    "    rmse = evaluate(target_var)\n",
    "    d = {'model_type': [model_type],\n",
    "        'rmse': [rmse]}\n",
    "    d = pd.DataFrame(d)\n",
    "    return eval_df.append(d, ignore_index = True)"
   ]
  },
  {
   "cell_type": "code",
   "execution_count": 85,
   "id": "ab6505d1",
   "metadata": {},
   "outputs": [
    {
     "name": "stdout",
     "output_type": "stream",
     "text": [
      "1.3713\n"
     ]
    },
    {
     "data": {
      "image/png": "[encoded data removed]",
      "text/plain": [
       "<Figure size 864x288 with 1 Axes>"
      ]
     },
     "metadata": {
      "needs_background": "light"
     },
     "output_type": "display_data"
    }
   ],
   "source": [
    "plot_and_eval('Lake_Level')"
   ]
  },
  {
   "cell_type": "code",
   "execution_count": null,
   "id": "651bc483",
   "metadata": {},
   "outputs": [],
   "source": []
  },
  {
   "cell_type": "code",
   "execution_count": null,
   "id": "81526d49",
   "metadata": {},
   "outputs": [],
   "source": []
  },
  {
   "cell_type": "markdown",
   "id": "e9772de1",
   "metadata": {},
   "source": [
    "# Conclusion\n",
    "## Report Findings \n",
    "1. Rain affects water levels in the lake\n",
    "    - True. Specifically Le_Croci, S_Agata, and Mangona\n",
    "2. Temperature affects water levels in the lake\n",
    "    - True.\n",
    "3. Flow rate out of the lake affects water levels in the lake\n",
    "    - True.\n",
    "\n",
    "### 'Previous Cycle' was the most effective model based on RMSE scores\n",
    "### Most effective feature engineering:\n",
    "    - 1 M resampling period\n",
    "    - 3 M shift in rainfall and temperature\n",
    "    - taking avg of three most strongly correlated rainfalls: Le_Croci, S_Agata, and Mangona\n",
    "\n",
    "\n",
    "\n",
    "##  Recommendations and Future Work\n",
    "\n",
    "- combine model with models that predict changes in temperature and rainfall to get a more accurate\n",
    "\n",
    "- regulate water usage to minimize use of limited water resources\n",
    "\n",
    "- invest in salt-water conversion to fresh water\n"
   ]
  },
  {
   "cell_type": "code",
   "execution_count": null,
   "id": "02b4aa39",
   "metadata": {},
   "outputs": [],
   "source": []
  }
 ],
 "metadata": {
  "kernelspec": {
   "display_name": "Python 3 (ipykernel)",
   "language": "python",
   "name": "python3"
  },
  "language_info": {
   "codemirror_mode": {
    "name": "ipython",
    "version": 3
   },
   "file_extension": ".py",
   "mimetype": "text/x-python",
   "name": "python",
   "nbconvert_exporter": "python",
   "pygments_lexer": "ipython3",
   "version": "3.9.12"
  }
 },
 "nbformat": 4,
 "nbformat_minor": 5
}
