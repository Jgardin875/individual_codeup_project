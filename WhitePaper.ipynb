{
 "cells": [
  {
   "cell_type": "markdown",
   "id": "0c86a15b",
   "metadata": {},
   "source": [
    "# White Paper on Acea Smart Water Analytics\n",
    "    By Jessica Gardin"
   ]
  },
  {
   "cell_type": "markdown",
   "id": "7ec67401",
   "metadata": {},
   "source": [
    "# Why do we care about lake water levels?\n",
    "\n",
    "\n",
    "Water is obviously essential to human life. While most first world countries can simply turn a tap to access fresh clean water, that is not the case for everyone. Also, even first world countires are seeing the effects of climate change on fresh water resources. California in the USA has suffered droughts in recent years. Water levels in Lake Mead in the USA is on a 22 year downward spiral.(1) And this is not just limited to the USA, water supplies are being stressed to capacity globaly. (2)\n",
    "\n",
    "As climate change impacts weather patterns, water may become increasingly in short supply.(2) Learning how to predict and effecitvely manage water supplies, especially fresh water supplies, is crucial for city development and human survival. And although most of the Earth's surface is coverd in water, over 97% is saltwater. That leaves less than 3% fit for human consumption, and of that 3% over half is frozen as glaciers or otherwise unavailable. (3)\n",
    "\n",
    "As a result, regulating freshwater resources is crucial to the success of thriving cities and growing populations across the globe."
   ]
  },
  {
   "cell_type": "markdown",
   "id": "359ca533",
   "metadata": {},
   "source": [
    "# How can Data Science help?"
   ]
  },
  {
   "cell_type": "markdown",
   "id": "311a2c6d",
   "metadata": {},
   "source": [
    "By analyzing past patterns in weather, temperature, and more, we can predict quantities of freshwater that may be available in upcoming years. This can help in determining if there needs to be caps on watering lawns, washing cars, etc. in order to ensure that everyone has sufficient drinking water to thrive. "
   ]
  },
  {
   "cell_type": "markdown",
   "id": "d48bb365",
   "metadata": {},
   "source": [
    "# Common Methodologies "
   ]
  },
  {
   "cell_type": "markdown",
   "id": "f6aaa7e9",
   "metadata": {},
   "source": [
    "Water levels are a very complex time series problem. The amount of rainfall, local temperature that affects evaporation, variable usage over time, and more can all play a role in determining how much water is needed and how much is available. \n",
    "\n",
    "#### Factors:\n",
    "- Rainwater\n",
    "- Local Temperature\n",
    "- Flow rate out of the lake and into other reservoirs\n",
    "\n",
    "#### Feature Engineering Techniques:\n",
    "- Phase shifting\n",
    "- Averages\n",
    "- Datetime Resampling\n",
    "\n",
    "#### Statistics:\n",
    "- Spearmanr\n",
    "\n",
    "#### Models used are:\n",
    "Time series models:\n",
    "- Simple Average\n",
    "- Holt's Linear Trend\n",
    "- Previous Cycle\n",
    "#### Linear Models:\n",
    "- Polynomial Regression\n",
    "- General Linear Model/TweedieRegression\n",
    "#### Seasonal Models:\n",
    "- Gradient Boosting Regressor\n",
    "\n",
    "# Evaluation\n",
    "Models were then evaluated using RMSE"
   ]
  },
  {
   "cell_type": "markdown",
   "id": "e9772de1",
   "metadata": {},
   "source": [
    "# Conclusion\n",
    "## Report Findings \n",
    "1. Rain affects water levels in the lake\n",
    "    - True. Specifically Le_Croci, S_Agata, and Mangona\n",
    "2. Temperature affects water levels in the lake\n",
    "    - True.\n",
    "3. Flow rate out of the lake affects water levels in the lake\n",
    "    - True.\n",
    "\n",
    "### 'GLM' was the most effective model based on RMSE scores\n",
    "### Most effective feature engineering:\n",
    "    - 1 M resampling period\n",
    "    - 3 M shift in rainfall and temperature\n",
    "    - taking avg of three most strongly correlated rainfalls: Le_Croci, S_Agata, and Mangona\n",
    "\n",
    "\n",
    "\n",
    "##  Recommendations and Future Work\n",
    "\n",
    "- combine model with models that predict changes in temperature and rainfall to get a more accurate\n",
    "\n",
    "- regulate water usage to minimize use of limited water resources\n",
    "\n",
    "- invest in salt-water conversion to fresh water\n"
   ]
  },
  {
   "cell_type": "markdown",
   "id": "0264e284",
   "metadata": {},
   "source": [
    "# Resources"
   ]
  },
  {
   "cell_type": "code",
   "execution_count": null,
   "id": "02b4aa39",
   "metadata": {},
   "outputs": [],
   "source": [
    "(1) https://earthobservatory.nasa.gov/images/150111/lake-mead-keeps-dropping (Aug 8, 2022)\n",
    "(2) https://agupubs.onlinelibrary.wiley.com/doi/full/10.1002/2015WR017349   (Aug 8, 2022)\n",
    "(3) https://www.worldwildlife.org/threats/water-scarcity (Aug 8, 2022)"
   ]
  }
 ],
 "metadata": {
  "kernelspec": {
   "display_name": "Python 3 (ipykernel)",
   "language": "python",
   "name": "python3"
  },
  "language_info": {
   "codemirror_mode": {
    "name": "ipython",
    "version": 3
   },
   "file_extension": ".py",
   "mimetype": "text/x-python",
   "name": "python",
   "nbconvert_exporter": "python",
   "pygments_lexer": "ipython3",
   "version": "3.9.12"
  }
 },
 "nbformat": 4,
 "nbformat_minor": 5
}
